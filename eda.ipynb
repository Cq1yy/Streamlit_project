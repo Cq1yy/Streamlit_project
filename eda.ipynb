{
  "nbformat": 4,
  "nbformat_minor": 0,
  "metadata": {
    "colab": {
      "provenance": []
    },
    "kernelspec": {
      "name": "python3",
      "display_name": "Python 3"
    },
    "language_info": {
      "name": "python"
    }
  },
  "cells": [
    {
      "cell_type": "markdown",
      "source": [
        "# Практическая работа"
      ],
      "metadata": {
        "id": "m9QWlN-lq0qw"
      }
    },
    {
      "cell_type": "markdown",
      "source": [
        "# Задача"
      ],
      "metadata": {
        "id": "4Nb7eTxYWWUe"
      }
    },
    {
      "cell_type": "markdown",
      "source": [
        "Один из способов повысить эффективность взаимодействия банка с клиентами — отправлять предложение о новой услуге не всем клиентам, а только некоторым, которые выбираются по принципу наибольшей склонности к отклику на это предложение.\n",
        "\n",
        "Задача заключается в том, чтобы предложить алгоритм, который будет выдавать склонность клиента к положительному или отрицательному отклику на предложение банка. Предполагается, что, получив такие оценки для некоторого множества клиентов, банк обратится с предложением только к тем, от кого ожидается положительный отклик.\n"
      ],
      "metadata": {
        "id": "ug5TQChn6KiJ"
      }
    },
    {
      "cell_type": "markdown",
      "source": [
        "Для решения этой задачи загрузите файлы из базы в Postgres (или используйте `*.csv` как есть).\n",
        "Эта БД хранит информацию о клиентах банка и их персональные данные, такие как пол, количество детей и другие.\n",
        "\n",
        "Описание таблиц с данными представлено ниже.\n"
      ],
      "metadata": {
        "id": "5k52FwP156I6"
      }
    },
    {
      "cell_type": "markdown",
      "source": [
        "**D_work**\n",
        "\n",
        "Описание статусов относительно работы:\n",
        "- ID — идентификатор социального статуса клиента относительно работы;\n",
        "- COMMENT — расшифровка статуса.\n",
        "\n",
        "\n",
        "**D_pens**\n",
        "\n",
        "Описание статусов относительно пенсии:\n",
        "- ID — идентификатор социального статуса;\n",
        "- COMMENT — расшифровка статуса.\n",
        "\n",
        "\n",
        "**D_clients**\n",
        "\n",
        "Описание данных клиентов:\n",
        "- ID — идентификатор записи;\n",
        "- AGE\t— возраст клиента;\n",
        "- GENDER — пол клиента (1 — мужчина, 0 — женщина);\n",
        "- EDUCATION — образование;\n",
        "- MARITAL_STATUS — семейное положение;\n",
        "- CHILD_TOTAL\t— количество детей клиента;\n",
        "- DEPENDANTS — количество иждивенцев клиента;\n",
        "- SOCSTATUS_WORK_FL\t— социальный статус клиента относительно работы (1 — работает, 0 — не работает);\n",
        "- SOCSTATUS_PENS_FL\t— социальный статус клиента относительно пенсии (1 — пенсионер, 0 — не пенсионер);\n",
        "- REG_ADDRESS_PROVINCE — область регистрации клиента;\n",
        "- FACT_ADDRESS_PROVINCE — область фактического пребывания клиента;\n",
        "- POSTAL_ADDRESS_PROVINCE — почтовый адрес области;\n",
        "- FL_PRESENCE_FL — наличие в собственности квартиры (1 — есть, 0 — нет);\n",
        "- OWN_AUTO — количество автомобилей в собственности.\n",
        "\n",
        "\n",
        "**D_agreement**\n",
        "\n",
        "Таблица с зафиксированными откликами клиентов на предложения банка:\n",
        "- AGREEMENT_RK — уникальный идентификатор объекта в выборке;\n",
        "- ID_CLIENT — идентификатор клиента;\n",
        "- TARGET — целевая переменная: отклик на маркетинговую кампанию (1 — отклик был зарегистрирован, 0 — отклика не было).\n",
        "    \n",
        "    \n",
        "**D_job**\n",
        "\n",
        "Описание информации о работе клиентов:\n",
        "- GEN_INDUSTRY — отрасль работы клиента;\n",
        "- GEN_TITLE — должность;\n",
        "- JOB_DIR — направление деятельности внутри компании;\n",
        "- WORK_TIME — время работы на текущем месте (в месяцах);\n",
        "- ID_CLIENT — идентификатор клиента.\n",
        "\n",
        "\n",
        "**D_salary**\n",
        "\n",
        "Описание информации о заработной плате клиентов:\n",
        "- ID_CLIENT — идентификатор клиента;\n",
        "- FAMILY_INCOME — семейный доход (несколько категорий);\n",
        "- PERSONAL_INCOME — личный доход клиента (в рублях).\n",
        "\n",
        "\n",
        "**D_last_credit**\n",
        "\n",
        "Информация о последнем займе клиента:\n",
        "- ID_CLIENT — идентификатор клиента;\n",
        "- CREDIT — сумма последнего кредита клиента (в рублях);\n",
        "- TERM — срок кредита;\n",
        "- FST_PAYMENT — первоначальный взнос (в рублях).\n",
        "\n",
        "\n",
        "**D_loan**\n",
        "\n",
        "Информация о кредитной истории клиента:\n",
        "- ID_CLIENT — идентификатор клиента;\n",
        "- ID_LOAN — идентификатор кредита.\n",
        "\n",
        "**D_close_loan**\n",
        "\n",
        "Информация о статусах кредита (ссуд):\n",
        "- ID_LOAN — идентификатор кредита;\n",
        "- CLOSED_FL — текущий статус кредита (1 — закрыт, 0 — не закрыт)."
      ],
      "metadata": {
        "id": "3HYLpuwA6dAw"
      }
    },
    {
      "cell_type": "markdown",
      "source": [
        "Ниже представлен минимальный список колонок, которые должны находиться в итоговом датасете после склейки и агрегации данных. По своему усмотрению вы можете добавить дополнительные к этим колонки."
      ],
      "metadata": {
        "id": "aSCbvJeMKegU"
      }
    },
    {
      "cell_type": "markdown",
      "source": [
        "    - AGREEMENT_RK — уникальный идентификатор объекта в выборке;\n",
        "    - TARGET — целевая переменная: отклик на маркетинговую кампанию (1 — отклик был зарегистрирован, 0 — отклика не было);\n",
        "    - AGE — возраст клиента;\n",
        "    - SOCSTATUS_WORK_FL — социальный статус клиента относительно работы (1 — работает, 0 — не работает);\n",
        "    - SOCSTATUS_PENS_FL — социальный статус клиента относительно пенсии (1 — пенсионер, 0 — не пенсионер);\n",
        "    - GENDER — пол клиента (1 — мужчина, 0 — женщина);\n",
        "    - CHILD_TOTAL — количество детей клиента;\n",
        "    - DEPENDANTS — количество иждивенцев клиента;\n",
        "    - PERSONAL_INCOME — личный доход клиента (в рублях);\n",
        "    - LOAN_NUM_TOTAL — количество ссуд клиента;\n",
        "    - LOAN_NUM_CLOSED — количество погашенных ссуд клиента.\n"
      ],
      "metadata": {
        "id": "xDZKZYCtmbwi"
      }
    },
    {
      "cell_type": "markdown",
      "source": [
        "Будьте внимательны при сборке датасета: это реальные банковские данные, в которых могут наблюдаться дубли, некорректно заполненные значения или значения, противоречащие друг другу. Для получения качественной модели необходимо предварительно очистить датасет от такой информации."
      ],
      "metadata": {
        "id": "EDpojLFeAw2Y"
      }
    },
    {
      "cell_type": "markdown",
      "source": [
        "## Задание 1\n",
        "\n",
        "Соберите всю информацию о клиентах в одну таблицу, где одна строчка соответствует полной информации об одном клиенте."
      ],
      "metadata": {
        "id": "GERgJvyYmQEZ"
      }
    },
    {
      "cell_type": "code",
      "source": [
        "import pandas as pd\n",
        "import numpy as np\n",
        "from pickle import dump, load"
      ],
      "metadata": {
        "id": "bENpJcSOCwOl"
      },
      "execution_count": null,
      "outputs": []
    },
    {
      "cell_type": "code",
      "source": [
        "url1 = \"https://raw.githubusercontent.com/aiedu-courses/stepik_linear_models/main/datasets/clients/D_target.csv\" # AGREEMENT_RK TARGET\n",
        "url2 = \"https://raw.githubusercontent.com/aiedu-courses/stepik_linear_models/main/datasets/clients/D_clients.csv\" # AGE SOCSTATUS_WORK_FL SOCSTATUS_PENS_FL GENDER CHILD_TOTAL  DEPENDANTS\n",
        "url3 = \"https://raw.githubusercontent.com/aiedu-courses/stepik_linear_models/main/datasets/clients/D_salary.csv\" # PERSONAL_INCOME and ID_CLIENT\n",
        "url4 = \"https://raw.githubusercontent.com/aiedu-courses/stepik_linear_models/main/datasets/clients/D_loan.csv\" # ID_LOAN to ID_CLIENT (чтобы посчитать все кредиты клиента)\n",
        "url5 = \"https://raw.githubusercontent.com/aiedu-courses/stepik_linear_models/main/datasets/clients/D_close_loan.csv\" # ID_LOAN и статус кредита\n",
        "url6 = \"https://raw.githubusercontent.com/aiedu-courses/stepik_linear_models/main/datasets/clients/D_job.csv\" #profession\n",
        "\n"
      ],
      "metadata": {
        "id": "CjeCL5ujy2CS"
      },
      "execution_count": null,
      "outputs": []
    },
    {
      "cell_type": "code",
      "source": [
        "rk_target = pd.read_csv(url1)\n",
        "client_info = pd.read_csv(url2)\n",
        "pers_inc_id = pd.read_csv(url3)\n",
        "id_loan_to_id = pd.read_csv(url4)\n",
        "id_loan_to_credit_status = pd.read_csv(url5)\n",
        "profession = pd.read_csv(url6)"
      ],
      "metadata": {
        "id": "nQ_OU7qTCLZy"
      },
      "execution_count": null,
      "outputs": []
    },
    {
      "cell_type": "code",
      "source": [
        "df=pd.merge(rk_target, client_info, left_on=\"ID_CLIENT\", right_on=\"ID\", how=\"left\")\n",
        "df=pd.merge(df, pers_inc_id, left_on=\"ID\", right_on=\"ID_CLIENT\", how=\"left\")\n",
        "df=pd.merge(df, id_loan_to_id, left_on=\"ID\", right_on=\"ID_CLIENT\", how=\"left\")\n",
        "df=pd.merge(df, id_loan_to_credit_status, left_on=\"ID_LOAN\", right_on=\"ID_LOAN\", how=\"left\")\n",
        "df=pd.merge(df, profession, left_on=\"ID_CLIENT\", right_on=\"ID_CLIENT\", how=\"left\")"
      ],
      "metadata": {
        "id": "9GQwxLS1D_Va"
      },
      "execution_count": null,
      "outputs": []
    },
    {
      "cell_type": "code",
      "source": [
        "df[\"LOAN_NUM_TOTAL\"] = df.groupby(\"ID_CLIENT\")[\"ID_LOAN\"].transform(\"size\")\n",
        "df[\"LOAN_NUM_CLOSED\"] = (df[\"CLOSED_FL\"] == 1).groupby(df[\"ID_CLIENT\"]).transform(\"sum\")\n",
        "df.shape"
      ],
      "metadata": {
        "colab": {
          "base_uri": "https://localhost:8080/"
        },
        "id": "hc8QESqoOXWf",
        "outputId": "55b444ad-fcb6-4e07-8d78-a56697428384"
      },
      "execution_count": null,
      "outputs": [
        {
          "output_type": "execute_result",
          "data": {
            "text/plain": [
              "(21535, 29)"
            ]
          },
          "metadata": {},
          "execution_count": 5
        }
      ]
    },
    {
      "cell_type": "code",
      "source": [
        "df=df[[\"AGREEMENT_RK\", \"AGE\", \"GEN_TITLE\", \"SOCSTATUS_WORK_FL\", \"SOCSTATUS_PENS_FL\", \"GENDER\", \"CHILD_TOTAL\", \"DEPENDANTS\", \"PERSONAL_INCOME\",\"LOAN_NUM_TOTAL\",\"LOAN_NUM_CLOSED\",\"TARGET\"]]"
      ],
      "metadata": {
        "id": "FhGZNko6GgaB"
      },
      "execution_count": null,
      "outputs": []
    },
    {
      "cell_type": "code",
      "source": [
        "df.head(20)"
      ],
      "metadata": {
        "colab": {
          "base_uri": "https://localhost:8080/",
          "height": 800
        },
        "id": "p_xsjsK6Vlvy",
        "outputId": "6b94ed5b-fc2f-458e-ac25-3bc9bae86afc"
      },
      "execution_count": null,
      "outputs": [
        {
          "output_type": "execute_result",
          "data": {
            "text/plain": [
              "    AGREEMENT_RK  AGE                    GEN_TITLE  SOCSTATUS_WORK_FL  \\\n",
              "0       59910150   49                      Рабочий                  1   \n",
              "1       59910150   49                      Рабочий                  1   \n",
              "2       59910230   32                      Рабочий                  1   \n",
              "3       59910525   52                   Специалист                  1   \n",
              "4       59910525   52                   Специалист                  1   \n",
              "5       59910803   39  Руководитель среднего звена                  1   \n",
              "6       59911781   30                   Специалист                  1   \n",
              "7       59911781   30                   Специалист                  1   \n",
              "8       59911784   29                   Специалист                  1   \n",
              "9       59911784   29                   Специалист                  1   \n",
              "10      59911832   35                   Специалист                  1   \n",
              "11      59911832   35                   Специалист                  1   \n",
              "12      59912034   41                      Рабочий                  1   \n",
              "13      59912034   41                      Рабочий                  1   \n",
              "14      59912560   53   Руководитель высшего звена                  1   \n",
              "15      59912659   43                   Специалист                  1   \n",
              "16      59912692   54                     Служащий                  1   \n",
              "17      59913108   26         Работник сферы услуг                  1   \n",
              "18      59913108   26         Работник сферы услуг                  1   \n",
              "19      59913134   62                      Рабочий                  0   \n",
              "\n",
              "    SOCSTATUS_PENS_FL  GENDER  CHILD_TOTAL  DEPENDANTS  PERSONAL_INCOME  \\\n",
              "0                   0       1            2           1           5000.0   \n",
              "1                   0       1            2           1           5000.0   \n",
              "2                   0       1            3           3          12000.0   \n",
              "3                   0       1            4           0           9000.0   \n",
              "4                   0       1            4           0           9000.0   \n",
              "5                   0       1            1           1          25000.0   \n",
              "6                   0       0            0           0          12000.0   \n",
              "7                   0       0            0           0          12000.0   \n",
              "8                   0       0            0           0          12000.0   \n",
              "9                   0       0            0           0          12000.0   \n",
              "10                  0       0            1           1          15000.0   \n",
              "11                  0       0            1           1          15000.0   \n",
              "12                  0       1            0           0           6000.0   \n",
              "13                  0       1            0           0           6000.0   \n",
              "14                  0       0            2           0         100000.0   \n",
              "15                  0       1            0           0           7000.0   \n",
              "16                  0       1            2           0          19000.0   \n",
              "17                  0       0            0           0          18000.0   \n",
              "18                  0       0            0           0          18000.0   \n",
              "19                  1       0            3           0           7000.0   \n",
              "\n",
              "    LOAN_NUM_TOTAL  LOAN_NUM_CLOSED  TARGET  \n",
              "0                2                2       0  \n",
              "1                2                2       0  \n",
              "2                1                1       0  \n",
              "3                2                1       0  \n",
              "4                2                1       0  \n",
              "5                1                1       0  \n",
              "6                2                1       0  \n",
              "7                2                1       0  \n",
              "8                2                1       0  \n",
              "9                2                1       0  \n",
              "10               2                2       0  \n",
              "11               2                2       0  \n",
              "12               2                1       0  \n",
              "13               2                1       0  \n",
              "14               1                1       0  \n",
              "15               1                1       0  \n",
              "16               1                1       0  \n",
              "17               2                1       1  \n",
              "18               2                1       1  \n",
              "19               1                1       1  "
            ],
            "text/html": [
              "\n",
              "  <div id=\"df-33cb6282-b19f-4fe4-b173-90b9f015f1a2\" class=\"colab-df-container\">\n",
              "    <div>\n",
              "<style scoped>\n",
              "    .dataframe tbody tr th:only-of-type {\n",
              "        vertical-align: middle;\n",
              "    }\n",
              "\n",
              "    .dataframe tbody tr th {\n",
              "        vertical-align: top;\n",
              "    }\n",
              "\n",
              "    .dataframe thead th {\n",
              "        text-align: right;\n",
              "    }\n",
              "</style>\n",
              "<table border=\"1\" class=\"dataframe\">\n",
              "  <thead>\n",
              "    <tr style=\"text-align: right;\">\n",
              "      <th></th>\n",
              "      <th>AGREEMENT_RK</th>\n",
              "      <th>AGE</th>\n",
              "      <th>GEN_TITLE</th>\n",
              "      <th>SOCSTATUS_WORK_FL</th>\n",
              "      <th>SOCSTATUS_PENS_FL</th>\n",
              "      <th>GENDER</th>\n",
              "      <th>CHILD_TOTAL</th>\n",
              "      <th>DEPENDANTS</th>\n",
              "      <th>PERSONAL_INCOME</th>\n",
              "      <th>LOAN_NUM_TOTAL</th>\n",
              "      <th>LOAN_NUM_CLOSED</th>\n",
              "      <th>TARGET</th>\n",
              "    </tr>\n",
              "  </thead>\n",
              "  <tbody>\n",
              "    <tr>\n",
              "      <th>0</th>\n",
              "      <td>59910150</td>\n",
              "      <td>49</td>\n",
              "      <td>Рабочий</td>\n",
              "      <td>1</td>\n",
              "      <td>0</td>\n",
              "      <td>1</td>\n",
              "      <td>2</td>\n",
              "      <td>1</td>\n",
              "      <td>5000.0</td>\n",
              "      <td>2</td>\n",
              "      <td>2</td>\n",
              "      <td>0</td>\n",
              "    </tr>\n",
              "    <tr>\n",
              "      <th>1</th>\n",
              "      <td>59910150</td>\n",
              "      <td>49</td>\n",
              "      <td>Рабочий</td>\n",
              "      <td>1</td>\n",
              "      <td>0</td>\n",
              "      <td>1</td>\n",
              "      <td>2</td>\n",
              "      <td>1</td>\n",
              "      <td>5000.0</td>\n",
              "      <td>2</td>\n",
              "      <td>2</td>\n",
              "      <td>0</td>\n",
              "    </tr>\n",
              "    <tr>\n",
              "      <th>2</th>\n",
              "      <td>59910230</td>\n",
              "      <td>32</td>\n",
              "      <td>Рабочий</td>\n",
              "      <td>1</td>\n",
              "      <td>0</td>\n",
              "      <td>1</td>\n",
              "      <td>3</td>\n",
              "      <td>3</td>\n",
              "      <td>12000.0</td>\n",
              "      <td>1</td>\n",
              "      <td>1</td>\n",
              "      <td>0</td>\n",
              "    </tr>\n",
              "    <tr>\n",
              "      <th>3</th>\n",
              "      <td>59910525</td>\n",
              "      <td>52</td>\n",
              "      <td>Специалист</td>\n",
              "      <td>1</td>\n",
              "      <td>0</td>\n",
              "      <td>1</td>\n",
              "      <td>4</td>\n",
              "      <td>0</td>\n",
              "      <td>9000.0</td>\n",
              "      <td>2</td>\n",
              "      <td>1</td>\n",
              "      <td>0</td>\n",
              "    </tr>\n",
              "    <tr>\n",
              "      <th>4</th>\n",
              "      <td>59910525</td>\n",
              "      <td>52</td>\n",
              "      <td>Специалист</td>\n",
              "      <td>1</td>\n",
              "      <td>0</td>\n",
              "      <td>1</td>\n",
              "      <td>4</td>\n",
              "      <td>0</td>\n",
              "      <td>9000.0</td>\n",
              "      <td>2</td>\n",
              "      <td>1</td>\n",
              "      <td>0</td>\n",
              "    </tr>\n",
              "    <tr>\n",
              "      <th>5</th>\n",
              "      <td>59910803</td>\n",
              "      <td>39</td>\n",
              "      <td>Руководитель среднего звена</td>\n",
              "      <td>1</td>\n",
              "      <td>0</td>\n",
              "      <td>1</td>\n",
              "      <td>1</td>\n",
              "      <td>1</td>\n",
              "      <td>25000.0</td>\n",
              "      <td>1</td>\n",
              "      <td>1</td>\n",
              "      <td>0</td>\n",
              "    </tr>\n",
              "    <tr>\n",
              "      <th>6</th>\n",
              "      <td>59911781</td>\n",
              "      <td>30</td>\n",
              "      <td>Специалист</td>\n",
              "      <td>1</td>\n",
              "      <td>0</td>\n",
              "      <td>0</td>\n",
              "      <td>0</td>\n",
              "      <td>0</td>\n",
              "      <td>12000.0</td>\n",
              "      <td>2</td>\n",
              "      <td>1</td>\n",
              "      <td>0</td>\n",
              "    </tr>\n",
              "    <tr>\n",
              "      <th>7</th>\n",
              "      <td>59911781</td>\n",
              "      <td>30</td>\n",
              "      <td>Специалист</td>\n",
              "      <td>1</td>\n",
              "      <td>0</td>\n",
              "      <td>0</td>\n",
              "      <td>0</td>\n",
              "      <td>0</td>\n",
              "      <td>12000.0</td>\n",
              "      <td>2</td>\n",
              "      <td>1</td>\n",
              "      <td>0</td>\n",
              "    </tr>\n",
              "    <tr>\n",
              "      <th>8</th>\n",
              "      <td>59911784</td>\n",
              "      <td>29</td>\n",
              "      <td>Специалист</td>\n",
              "      <td>1</td>\n",
              "      <td>0</td>\n",
              "      <td>0</td>\n",
              "      <td>0</td>\n",
              "      <td>0</td>\n",
              "      <td>12000.0</td>\n",
              "      <td>2</td>\n",
              "      <td>1</td>\n",
              "      <td>0</td>\n",
              "    </tr>\n",
              "    <tr>\n",
              "      <th>9</th>\n",
              "      <td>59911784</td>\n",
              "      <td>29</td>\n",
              "      <td>Специалист</td>\n",
              "      <td>1</td>\n",
              "      <td>0</td>\n",
              "      <td>0</td>\n",
              "      <td>0</td>\n",
              "      <td>0</td>\n",
              "      <td>12000.0</td>\n",
              "      <td>2</td>\n",
              "      <td>1</td>\n",
              "      <td>0</td>\n",
              "    </tr>\n",
              "    <tr>\n",
              "      <th>10</th>\n",
              "      <td>59911832</td>\n",
              "      <td>35</td>\n",
              "      <td>Специалист</td>\n",
              "      <td>1</td>\n",
              "      <td>0</td>\n",
              "      <td>0</td>\n",
              "      <td>1</td>\n",
              "      <td>1</td>\n",
              "      <td>15000.0</td>\n",
              "      <td>2</td>\n",
              "      <td>2</td>\n",
              "      <td>0</td>\n",
              "    </tr>\n",
              "    <tr>\n",
              "      <th>11</th>\n",
              "      <td>59911832</td>\n",
              "      <td>35</td>\n",
              "      <td>Специалист</td>\n",
              "      <td>1</td>\n",
              "      <td>0</td>\n",
              "      <td>0</td>\n",
              "      <td>1</td>\n",
              "      <td>1</td>\n",
              "      <td>15000.0</td>\n",
              "      <td>2</td>\n",
              "      <td>2</td>\n",
              "      <td>0</td>\n",
              "    </tr>\n",
              "    <tr>\n",
              "      <th>12</th>\n",
              "      <td>59912034</td>\n",
              "      <td>41</td>\n",
              "      <td>Рабочий</td>\n",
              "      <td>1</td>\n",
              "      <td>0</td>\n",
              "      <td>1</td>\n",
              "      <td>0</td>\n",
              "      <td>0</td>\n",
              "      <td>6000.0</td>\n",
              "      <td>2</td>\n",
              "      <td>1</td>\n",
              "      <td>0</td>\n",
              "    </tr>\n",
              "    <tr>\n",
              "      <th>13</th>\n",
              "      <td>59912034</td>\n",
              "      <td>41</td>\n",
              "      <td>Рабочий</td>\n",
              "      <td>1</td>\n",
              "      <td>0</td>\n",
              "      <td>1</td>\n",
              "      <td>0</td>\n",
              "      <td>0</td>\n",
              "      <td>6000.0</td>\n",
              "      <td>2</td>\n",
              "      <td>1</td>\n",
              "      <td>0</td>\n",
              "    </tr>\n",
              "    <tr>\n",
              "      <th>14</th>\n",
              "      <td>59912560</td>\n",
              "      <td>53</td>\n",
              "      <td>Руководитель высшего звена</td>\n",
              "      <td>1</td>\n",
              "      <td>0</td>\n",
              "      <td>0</td>\n",
              "      <td>2</td>\n",
              "      <td>0</td>\n",
              "      <td>100000.0</td>\n",
              "      <td>1</td>\n",
              "      <td>1</td>\n",
              "      <td>0</td>\n",
              "    </tr>\n",
              "    <tr>\n",
              "      <th>15</th>\n",
              "      <td>59912659</td>\n",
              "      <td>43</td>\n",
              "      <td>Специалист</td>\n",
              "      <td>1</td>\n",
              "      <td>0</td>\n",
              "      <td>1</td>\n",
              "      <td>0</td>\n",
              "      <td>0</td>\n",
              "      <td>7000.0</td>\n",
              "      <td>1</td>\n",
              "      <td>1</td>\n",
              "      <td>0</td>\n",
              "    </tr>\n",
              "    <tr>\n",
              "      <th>16</th>\n",
              "      <td>59912692</td>\n",
              "      <td>54</td>\n",
              "      <td>Служащий</td>\n",
              "      <td>1</td>\n",
              "      <td>0</td>\n",
              "      <td>1</td>\n",
              "      <td>2</td>\n",
              "      <td>0</td>\n",
              "      <td>19000.0</td>\n",
              "      <td>1</td>\n",
              "      <td>1</td>\n",
              "      <td>0</td>\n",
              "    </tr>\n",
              "    <tr>\n",
              "      <th>17</th>\n",
              "      <td>59913108</td>\n",
              "      <td>26</td>\n",
              "      <td>Работник сферы услуг</td>\n",
              "      <td>1</td>\n",
              "      <td>0</td>\n",
              "      <td>0</td>\n",
              "      <td>0</td>\n",
              "      <td>0</td>\n",
              "      <td>18000.0</td>\n",
              "      <td>2</td>\n",
              "      <td>1</td>\n",
              "      <td>1</td>\n",
              "    </tr>\n",
              "    <tr>\n",
              "      <th>18</th>\n",
              "      <td>59913108</td>\n",
              "      <td>26</td>\n",
              "      <td>Работник сферы услуг</td>\n",
              "      <td>1</td>\n",
              "      <td>0</td>\n",
              "      <td>0</td>\n",
              "      <td>0</td>\n",
              "      <td>0</td>\n",
              "      <td>18000.0</td>\n",
              "      <td>2</td>\n",
              "      <td>1</td>\n",
              "      <td>1</td>\n",
              "    </tr>\n",
              "    <tr>\n",
              "      <th>19</th>\n",
              "      <td>59913134</td>\n",
              "      <td>62</td>\n",
              "      <td>Рабочий</td>\n",
              "      <td>0</td>\n",
              "      <td>1</td>\n",
              "      <td>0</td>\n",
              "      <td>3</td>\n",
              "      <td>0</td>\n",
              "      <td>7000.0</td>\n",
              "      <td>1</td>\n",
              "      <td>1</td>\n",
              "      <td>1</td>\n",
              "    </tr>\n",
              "  </tbody>\n",
              "</table>\n",
              "</div>\n",
              "    <div class=\"colab-df-buttons\">\n",
              "\n",
              "  <div class=\"colab-df-container\">\n",
              "    <button class=\"colab-df-convert\" onclick=\"convertToInteractive('df-33cb6282-b19f-4fe4-b173-90b9f015f1a2')\"\n",
              "            title=\"Convert this dataframe to an interactive table.\"\n",
              "            style=\"display:none;\">\n",
              "\n",
              "  <svg xmlns=\"http://www.w3.org/2000/svg\" height=\"24px\" viewBox=\"0 -960 960 960\">\n",
              "    <path d=\"M120-120v-720h720v720H120Zm60-500h600v-160H180v160Zm220 220h160v-160H400v160Zm0 220h160v-160H400v160ZM180-400h160v-160H180v160Zm440 0h160v-160H620v160ZM180-180h160v-160H180v160Zm440 0h160v-160H620v160Z\"/>\n",
              "  </svg>\n",
              "    </button>\n",
              "\n",
              "  <style>\n",
              "    .colab-df-container {\n",
              "      display:flex;\n",
              "      gap: 12px;\n",
              "    }\n",
              "\n",
              "    .colab-df-convert {\n",
              "      background-color: #E8F0FE;\n",
              "      border: none;\n",
              "      border-radius: 50%;\n",
              "      cursor: pointer;\n",
              "      display: none;\n",
              "      fill: #1967D2;\n",
              "      height: 32px;\n",
              "      padding: 0 0 0 0;\n",
              "      width: 32px;\n",
              "    }\n",
              "\n",
              "    .colab-df-convert:hover {\n",
              "      background-color: #E2EBFA;\n",
              "      box-shadow: 0px 1px 2px rgba(60, 64, 67, 0.3), 0px 1px 3px 1px rgba(60, 64, 67, 0.15);\n",
              "      fill: #174EA6;\n",
              "    }\n",
              "\n",
              "    .colab-df-buttons div {\n",
              "      margin-bottom: 4px;\n",
              "    }\n",
              "\n",
              "    [theme=dark] .colab-df-convert {\n",
              "      background-color: #3B4455;\n",
              "      fill: #D2E3FC;\n",
              "    }\n",
              "\n",
              "    [theme=dark] .colab-df-convert:hover {\n",
              "      background-color: #434B5C;\n",
              "      box-shadow: 0px 1px 3px 1px rgba(0, 0, 0, 0.15);\n",
              "      filter: drop-shadow(0px 1px 2px rgba(0, 0, 0, 0.3));\n",
              "      fill: #FFFFFF;\n",
              "    }\n",
              "  </style>\n",
              "\n",
              "    <script>\n",
              "      const buttonEl =\n",
              "        document.querySelector('#df-33cb6282-b19f-4fe4-b173-90b9f015f1a2 button.colab-df-convert');\n",
              "      buttonEl.style.display =\n",
              "        google.colab.kernel.accessAllowed ? 'block' : 'none';\n",
              "\n",
              "      async function convertToInteractive(key) {\n",
              "        const element = document.querySelector('#df-33cb6282-b19f-4fe4-b173-90b9f015f1a2');\n",
              "        const dataTable =\n",
              "          await google.colab.kernel.invokeFunction('convertToInteractive',\n",
              "                                                    [key], {});\n",
              "        if (!dataTable) return;\n",
              "\n",
              "        const docLinkHtml = 'Like what you see? Visit the ' +\n",
              "          '<a target=\"_blank\" href=https://colab.research.google.com/notebooks/data_table.ipynb>data table notebook</a>'\n",
              "          + ' to learn more about interactive tables.';\n",
              "        element.innerHTML = '';\n",
              "        dataTable['output_type'] = 'display_data';\n",
              "        await google.colab.output.renderOutput(dataTable, element);\n",
              "        const docLink = document.createElement('div');\n",
              "        docLink.innerHTML = docLinkHtml;\n",
              "        element.appendChild(docLink);\n",
              "      }\n",
              "    </script>\n",
              "  </div>\n",
              "\n",
              "\n",
              "<div id=\"df-acb994b2-b424-4653-9513-45f8374fab6b\">\n",
              "  <button class=\"colab-df-quickchart\" onclick=\"quickchart('df-acb994b2-b424-4653-9513-45f8374fab6b')\"\n",
              "            title=\"Suggest charts\"\n",
              "            style=\"display:none;\">\n",
              "\n",
              "<svg xmlns=\"http://www.w3.org/2000/svg\" height=\"24px\"viewBox=\"0 0 24 24\"\n",
              "     width=\"24px\">\n",
              "    <g>\n",
              "        <path d=\"M19 3H5c-1.1 0-2 .9-2 2v14c0 1.1.9 2 2 2h14c1.1 0 2-.9 2-2V5c0-1.1-.9-2-2-2zM9 17H7v-7h2v7zm4 0h-2V7h2v10zm4 0h-2v-4h2v4z\"/>\n",
              "    </g>\n",
              "</svg>\n",
              "  </button>\n",
              "\n",
              "<style>\n",
              "  .colab-df-quickchart {\n",
              "      --bg-color: #E8F0FE;\n",
              "      --fill-color: #1967D2;\n",
              "      --hover-bg-color: #E2EBFA;\n",
              "      --hover-fill-color: #174EA6;\n",
              "      --disabled-fill-color: #AAA;\n",
              "      --disabled-bg-color: #DDD;\n",
              "  }\n",
              "\n",
              "  [theme=dark] .colab-df-quickchart {\n",
              "      --bg-color: #3B4455;\n",
              "      --fill-color: #D2E3FC;\n",
              "      --hover-bg-color: #434B5C;\n",
              "      --hover-fill-color: #FFFFFF;\n",
              "      --disabled-bg-color: #3B4455;\n",
              "      --disabled-fill-color: #666;\n",
              "  }\n",
              "\n",
              "  .colab-df-quickchart {\n",
              "    background-color: var(--bg-color);\n",
              "    border: none;\n",
              "    border-radius: 50%;\n",
              "    cursor: pointer;\n",
              "    display: none;\n",
              "    fill: var(--fill-color);\n",
              "    height: 32px;\n",
              "    padding: 0;\n",
              "    width: 32px;\n",
              "  }\n",
              "\n",
              "  .colab-df-quickchart:hover {\n",
              "    background-color: var(--hover-bg-color);\n",
              "    box-shadow: 0 1px 2px rgba(60, 64, 67, 0.3), 0 1px 3px 1px rgba(60, 64, 67, 0.15);\n",
              "    fill: var(--button-hover-fill-color);\n",
              "  }\n",
              "\n",
              "  .colab-df-quickchart-complete:disabled,\n",
              "  .colab-df-quickchart-complete:disabled:hover {\n",
              "    background-color: var(--disabled-bg-color);\n",
              "    fill: var(--disabled-fill-color);\n",
              "    box-shadow: none;\n",
              "  }\n",
              "\n",
              "  .colab-df-spinner {\n",
              "    border: 2px solid var(--fill-color);\n",
              "    border-color: transparent;\n",
              "    border-bottom-color: var(--fill-color);\n",
              "    animation:\n",
              "      spin 1s steps(1) infinite;\n",
              "  }\n",
              "\n",
              "  @keyframes spin {\n",
              "    0% {\n",
              "      border-color: transparent;\n",
              "      border-bottom-color: var(--fill-color);\n",
              "      border-left-color: var(--fill-color);\n",
              "    }\n",
              "    20% {\n",
              "      border-color: transparent;\n",
              "      border-left-color: var(--fill-color);\n",
              "      border-top-color: var(--fill-color);\n",
              "    }\n",
              "    30% {\n",
              "      border-color: transparent;\n",
              "      border-left-color: var(--fill-color);\n",
              "      border-top-color: var(--fill-color);\n",
              "      border-right-color: var(--fill-color);\n",
              "    }\n",
              "    40% {\n",
              "      border-color: transparent;\n",
              "      border-right-color: var(--fill-color);\n",
              "      border-top-color: var(--fill-color);\n",
              "    }\n",
              "    60% {\n",
              "      border-color: transparent;\n",
              "      border-right-color: var(--fill-color);\n",
              "    }\n",
              "    80% {\n",
              "      border-color: transparent;\n",
              "      border-right-color: var(--fill-color);\n",
              "      border-bottom-color: var(--fill-color);\n",
              "    }\n",
              "    90% {\n",
              "      border-color: transparent;\n",
              "      border-bottom-color: var(--fill-color);\n",
              "    }\n",
              "  }\n",
              "</style>\n",
              "\n",
              "  <script>\n",
              "    async function quickchart(key) {\n",
              "      const quickchartButtonEl =\n",
              "        document.querySelector('#' + key + ' button');\n",
              "      quickchartButtonEl.disabled = true;  // To prevent multiple clicks.\n",
              "      quickchartButtonEl.classList.add('colab-df-spinner');\n",
              "      try {\n",
              "        const charts = await google.colab.kernel.invokeFunction(\n",
              "            'suggestCharts', [key], {});\n",
              "      } catch (error) {\n",
              "        console.error('Error during call to suggestCharts:', error);\n",
              "      }\n",
              "      quickchartButtonEl.classList.remove('colab-df-spinner');\n",
              "      quickchartButtonEl.classList.add('colab-df-quickchart-complete');\n",
              "    }\n",
              "    (() => {\n",
              "      let quickchartButtonEl =\n",
              "        document.querySelector('#df-acb994b2-b424-4653-9513-45f8374fab6b button');\n",
              "      quickchartButtonEl.style.display =\n",
              "        google.colab.kernel.accessAllowed ? 'block' : 'none';\n",
              "    })();\n",
              "  </script>\n",
              "</div>\n",
              "    </div>\n",
              "  </div>\n"
            ]
          },
          "metadata": {},
          "execution_count": 7
        }
      ]
    },
    {
      "cell_type": "markdown",
      "source": [
        "Займемся обработкой датасета"
      ],
      "metadata": {
        "id": "CDig26ExTwGC"
      }
    },
    {
      "cell_type": "code",
      "source": [
        "df.shape"
      ],
      "metadata": {
        "colab": {
          "base_uri": "https://localhost:8080/"
        },
        "id": "ZH7tgJPFU0kA",
        "outputId": "46750023-9ece-448e-bf61-177423e0294f"
      },
      "execution_count": null,
      "outputs": [
        {
          "output_type": "execute_result",
          "data": {
            "text/plain": [
              "(21535, 12)"
            ]
          },
          "metadata": {},
          "execution_count": 9
        }
      ]
    },
    {
      "cell_type": "code",
      "source": [
        "df = df.drop_duplicates()\n",
        "df.shape"
      ],
      "metadata": {
        "colab": {
          "base_uri": "https://localhost:8080/"
        },
        "id": "JCs8trrCVKl1",
        "outputId": "0eda0d21-2065-43e1-c3e4-0a03f1c96d81"
      },
      "execution_count": null,
      "outputs": [
        {
          "output_type": "execute_result",
          "data": {
            "text/plain": [
              "(15223, 12)"
            ]
          },
          "metadata": {},
          "execution_count": 10
        }
      ]
    },
    {
      "cell_type": "markdown",
      "source": [
        "Взглянем на уникальные значения, может быть там есть аномальные значения"
      ],
      "metadata": {
        "id": "8kDL3ORzWYSA"
      }
    },
    {
      "cell_type": "code",
      "source": [
        "for column in df.columns:\n",
        "    unique_values = df[column].unique()\n",
        "    print(f\"Уникальные значения в столбце {column}: {unique_values}\")"
      ],
      "metadata": {
        "colab": {
          "base_uri": "https://localhost:8080/"
        },
        "id": "FYr3kAtUWHYz",
        "outputId": "ea529a95-c530-4d03-b2ca-1e0a2dda77aa"
      },
      "execution_count": null,
      "outputs": [
        {
          "output_type": "stream",
          "name": "stdout",
          "text": [
            "Уникальные значения в столбце AGREEMENT_RK: [59910150 59910230 59910525 ... 75291923 75291960 75292242]\n",
            "Уникальные значения в столбце AGE: [49 32 52 39 30 29 35 41 53 43 54 26 62 45 38 65 34 28 37 42 33 27 31 40\n",
            " 63 61 44 59 48 24 23 47 58 51 56 22 36 57 50 46 55 66 25 60 64 21 67]\n",
            "Уникальные значения в столбце GEN_TITLE: ['Рабочий' 'Специалист' 'Руководитель среднего звена'\n",
            " 'Руководитель высшего звена' 'Служащий' 'Работник сферы услуг'\n",
            " 'Высококвалифиц. специалист' 'Индивидуальный предприниматель' nan\n",
            " 'Военнослужащий по контракту' 'Руководитель низшего звена' 'Другое'\n",
            " 'Партнер']\n",
            "Уникальные значения в столбце SOCSTATUS_WORK_FL: [1 0]\n",
            "Уникальные значения в столбце SOCSTATUS_PENS_FL: [0 1]\n",
            "Уникальные значения в столбце GENDER: [1 0]\n",
            "Уникальные значения в столбце CHILD_TOTAL: [ 2  3  4  1  0  5  6  7  8 10]\n",
            "Уникальные значения в столбце DEPENDANTS: [1 3 0 2 4 5 6 7]\n",
            "Уникальные значения в столбце PERSONAL_INCOME: [5.000000e+03 1.200000e+04 9.000000e+03 2.500000e+04 1.500000e+04\n",
            " 6.000000e+03 1.000000e+05 7.000000e+03 1.900000e+04 1.800000e+04\n",
            " 2.000000e+04 6.000000e+04 1.000000e+04 5.200000e+03 3.500000e+04\n",
            " 1.400000e+04 8.000000e+03 1.300000e+04 1.250000e+04 1.100000e+04\n",
            " 3.000000e+04 2.300000e+04 4.000000e+03 5.000000e+04 4.000000e+04\n",
            " 5.700000e+03 1.280000e+04 5.500000e+03 4.800000e+03 5.300000e+03\n",
            " 1.170000e+04 7.500000e+03 8.500000e+03 7.300000e+03 1.450000e+04\n",
            " 3.000000e+03 2.700000e+04 1.350000e+04 6.500000e+03 8.600000e+03\n",
            " 3.800000e+04 6.200000e+03 1.050000e+04 1.700000e+05 7.800000e+03\n",
            " 3.300000e+03 9.300000e+03 1.700000e+04 2.800000e+04 2.300000e+03\n",
            " 3.200000e+04 2.100000e+04 8.400000e+03 5.600000e+03 9.800000e+03\n",
            " 4.300000e+03 2.400000e+04 4.500000e+03 1.600000e+04 4.950000e+03\n",
            " 9.500000e+03 4.600000e+03 3.600000e+04 5.500000e+04 4.500000e+04\n",
            " 2.900000e+04 1.390000e+04 6.300000e+03 7.200000e+03 9.600000e+03\n",
            " 2.600000e+04 1.150000e+04 5.446000e+03 1.950000e+04 5.100000e+04\n",
            " 1.540000e+04 3.500000e+03 5.800000e+03 7.600000e+03 4.400000e+03\n",
            " 1.860000e+04 1.550000e+04 7.400000e+03 2.200000e+04 8.100000e+03\n",
            " 6.800000e+03 1.750000e+04 1.960000e+04 1.435800e+04 1.030000e+04\n",
            " 5.400000e+04 6.670000e+03 1.040000e+04 6.800000e+04 1.380000e+04\n",
            " 1.850000e+04 4.900000e+03 2.580000e+04 1.740400e+04 4.100000e+04\n",
            " 1.270000e+04 6.500000e+04 6.700000e+03 4.200000e+03 9.400000e+03\n",
            " 5.400000e+03 3.200000e+03 3.900000e+03 8.200000e+03 7.900000e+03\n",
            " 5.100000e+03 2.950000e+04 1.320000e+04 1.290000e+04 3.900000e+04\n",
            " 3.100000e+03 5.900000e+03 7.250000e+03 1.090000e+04 9.628000e+03\n",
            " 7.500000e+04 9.900000e+03 3.400000e+03 9.200000e+03 1.240000e+04\n",
            " 8.300000e+03 4.700000e+03 8.700000e+03 7.000000e+04 1.650000e+04\n",
            " 1.370000e+04 8.900000e+03 9.330000e+03 1.020000e+04 1.160000e+04\n",
            " 3.700000e+03 8.800000e+03 4.300000e+04 6.900000e+03 5.582000e+03\n",
            " 6.600000e+03 1.560000e+04 3.100000e+04 1.500000e+05 3.800000e+03\n",
            " 2.500000e+05 9.100000e+03 2.830000e+04 5.300000e+04 1.538000e+04\n",
            " 1.260000e+04 1.360000e+04 1.670000e+04 8.000000e+04 5.050000e+03\n",
            " 4.330000e+03 6.700000e+04 2.400000e+01 7.251000e+03 5.790000e+03\n",
            " 1.080000e+04 6.299190e+03 2.250000e+04 2.180000e+04 1.680000e+04\n",
            " 4.190000e+04 2.350000e+04 6.180000e+03 1.120000e+04 2.000000e+03\n",
            " 1.690000e+04 4.200000e+04 1.070000e+04 7.850000e+03 7.700000e+03\n",
            " 3.400000e+04 8.250000e+03 1.316000e+04 4.800000e+04 4.700000e+04\n",
            " 4.600000e+04 1.230000e+04 1.480000e+04 3.300000e+04 7.550000e+03\n",
            " 1.430000e+04 2.100000e+03 9.700000e+03 3.600000e+03 5.230000e+03\n",
            " 1.760000e+04 4.250000e+04 4.400000e+04 1.340000e+04 6.400000e+03\n",
            " 2.480000e+04 1.060000e+04 2.200000e+05 1.190000e+04 1.870000e+04\n",
            " 2.980000e+04 2.150000e+04 1.530000e+04 7.830000e+03 7.640000e+03\n",
            " 1.130000e+04 5.460000e+03 6.608000e+03 1.180000e+04 1.980000e+04\n",
            " 1.605000e+04 1.770000e+04 2.310000e+04 7.050000e+03 1.010000e+04\n",
            " 3.700000e+04 5.600000e+04 1.100000e+05 1.780000e+04 1.610000e+04\n",
            " 7.650000e+03 2.650000e+04 1.790000e+04 1.330000e+04 4.590000e+03\n",
            " 1.520000e+04 1.345000e+04 1.315000e+04 8.726000e+03 7.700000e+04\n",
            " 1.720000e+04 6.100000e+03 6.770000e+04 8.066000e+03 4.100000e+03\n",
            " 3.264000e+04 1.950000e+03 7.100000e+03 4.515000e+03 2.050000e+04\n",
            " 5.680000e+03 1.970000e+04 2.064616e+04 9.340000e+03 8.350000e+03\n",
            " 1.140000e+04 4.900000e+04 1.600000e+05 5.200000e+04 2.295500e+04\n",
            " 9.240000e+03 1.930000e+04 1.164000e+04 1.470000e+04 2.450000e+04\n",
            " 5.339000e+03 7.101000e+03 4.340000e+03 2.800000e+03 7.220000e+03\n",
            " 6.359000e+03 5.350000e+03 5.425000e+03 5.088000e+03 9.200000e+04\n",
            " 2.730000e+04 1.210000e+04 1.556000e+04 4.360000e+03 2.380000e+04\n",
            " 1.265000e+04 1.820000e+04 1.620000e+04 5.360000e+03]\n",
            "Уникальные значения в столбце LOAN_NUM_TOTAL: [ 2  1  3  4  5  6 11  7 10  8 16]\n",
            "Уникальные значения в столбце LOAN_NUM_CLOSED: [ 2  1  0  3  4  5  6 11  7 10  8 16]\n",
            "Уникальные значения в столбце TARGET: [0 1]\n"
          ]
        }
      ]
    },
    {
      "cell_type": "markdown",
      "source": [
        "Как видим, значения в пределах нормы"
      ],
      "metadata": {
        "id": "hFMEzksFWhFq"
      }
    },
    {
      "cell_type": "code",
      "source": [
        "df.isnull().sum()"
      ],
      "metadata": {
        "colab": {
          "base_uri": "https://localhost:8080/"
        },
        "id": "jk-pEHdXhRrF",
        "outputId": "c7e85ee5-9bbc-4f7a-a7ec-4a4c66b16afe"
      },
      "execution_count": null,
      "outputs": [
        {
          "output_type": "execute_result",
          "data": {
            "text/plain": [
              "AGREEMENT_RK            0\n",
              "AGE                     0\n",
              "GEN_TITLE            1367\n",
              "SOCSTATUS_WORK_FL       0\n",
              "SOCSTATUS_PENS_FL       0\n",
              "GENDER                  0\n",
              "CHILD_TOTAL             0\n",
              "DEPENDANTS              0\n",
              "PERSONAL_INCOME         0\n",
              "LOAN_NUM_TOTAL          0\n",
              "LOAN_NUM_CLOSED         0\n",
              "TARGET                  0\n",
              "dtype: int64"
            ]
          },
          "metadata": {},
          "execution_count": 12
        }
      ]
    },
    {
      "cell_type": "markdown",
      "source": [
        "Видим много пропусков в gen_title, оставим как было, тк в других столбцах все данные есть."
      ],
      "metadata": {
        "id": "uOpRGIfah7kA"
      }
    },
    {
      "cell_type": "markdown",
      "source": [
        "Проверим df на противоречия. Что я иммею ввиду:  несоответствие между возрастом и социальным статусом. Например: молодой человек (18 лет) с пенсионным статусом (1). Но! Если человек военный по контракту, то он может выйти в 45, поэтому будет считать что минимальный порог вхождения в пенсионеры(при выполнении всех условий) - 45 лет. Поэтому, если в столбце AGE < 45 и SOCSTATUS_PENS_FL == 1, то такие строки мы считаем невалидными и удаляем"
      ],
      "metadata": {
        "id": "Wce00hpAWk-Q"
      }
    },
    {
      "cell_type": "code",
      "source": [
        "df_bad = df.loc[(df['AGE'] < 45) & (df['SOCSTATUS_PENS_FL'] == 1)]\n",
        "df_bad.shape\n",
        "df = df.drop(index=df_bad.index)\n",
        "df.shape"
      ],
      "metadata": {
        "colab": {
          "base_uri": "https://localhost:8080/"
        },
        "id": "rl-OyL17dqZN",
        "outputId": "2b04de3b-7951-44a0-d0bf-9d896e709fa0"
      },
      "execution_count": null,
      "outputs": [
        {
          "output_type": "execute_result",
          "data": {
            "text/plain": [
              "(15128, 12)"
            ]
          },
          "metadata": {},
          "execution_count": 13
        }
      ]
    },
    {
      "cell_type": "code",
      "source": [
        "\n",
        "with open(path, \"w\", newline=\"\") as f:\n",
        "    df.to_csv(f, encoding=\"utf-8\")\n",
        "    print(f\"Dataset was saved to {path}\")"
      ],
      "metadata": {
        "colab": {
          "base_uri": "https://localhost:8080/"
        },
        "id": "2woSFnbNKexB",
        "outputId": "0891f955-5945-4ebb-cfc1-7bc093126707"
      },
      "execution_count": null,
      "outputs": [
        {
          "output_type": "stream",
          "name": "stdout",
          "text": [
            "Dataset was saved to data/final_df.csv\n"
          ]
        }
      ]
    },
    {
      "cell_type": "markdown",
      "source": [
        "Ещё были варианты:\n",
        "\n",
        "1) Несоответствие между количеством детей и иждивенцев. Но ведь иждивенцами могут быть не только свои дети, но и например родственники с инвалидностью. Мы не имеем настолько подробных данных, поэтому этот вариант отметаем, могут стереться валидные данные.\n",
        "\n",
        "2) Несоответствие между статусом работы и пенсией. Иногда у людей нет выбора, и они работают на пенсии. Поэтому вариант, что клиент работает (SOCSTATUS_WORK_FL = 1) и одновременно является пенсионером (SOCSTATUS_PENS_FL = 1) является правдой. Этот вариант тоже мимо.\n"
      ],
      "metadata": {
        "id": "pLsGKkN2fQKp"
      }
    },
    {
      "cell_type": "markdown",
      "source": [
        "## Задание 2\n",
        "\n",
        "При помощи инструмента Streamlit проведите разведочный анализ данных. В него может входить:\n",
        "\n",
        "* построение графиков распределений признаков\n",
        "* построение матрицы корреляций\n",
        "* построение графиков зависимостей целевой переменной и признаков\n",
        "* вычисление числовых характеристик распределения числовых столбцов (среднее, min, max, медиана и так далее)\n",
        "* любые другие ваши идеи приветствуются!\n",
        "\n",
        "[Пример Streamlit-приложения](https://rateyourflight.streamlit.app) с разведочным анализом, прогнозом модели и оценкой ее результатов."
      ],
      "metadata": {
        "id": "I7jn6IYXx6M9"
      }
    }
  ]
}